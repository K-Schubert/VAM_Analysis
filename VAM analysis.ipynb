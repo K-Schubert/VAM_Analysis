{
 "cells": [
  {
   "cell_type": "code",
   "execution_count": 1,
   "metadata": {},
   "outputs": [],
   "source": [
    "import numpy as np\n",
    "import matplotlib.pyplot as plt"
   ]
  },
  {
   "cell_type": "code",
   "execution_count": 2,
   "metadata": {},
   "outputs": [],
   "source": [
    "pw = np.array([309, 320, 312, 297, 297, 279, 271, 274, 243, 284, 273, 284, 270, 258, 282, 261, 260, 279, 263, 257, 252, 253, 260, 244, 230, 259, 272, 277, 288, 284, 195])\n",
    "vam = np.array([1094, 1084.6, 1059.6, 1012.9, 1010.9, 944.7, 920.7, 910.7, 907.4, 902.6, 902.6, 877.5, 874.5, 868.5, 864.0, \n",
    "862.5, 858.1, 855.2, 855.2, 842.4, 839.6, 834.1, 817.9, 789.8, 742.2, 921, 1020, 1040, 1028, 1154, 582])\n",
    "\n"
   ]
  },
  {
   "cell_type": "code",
   "execution_count": 3,
   "metadata": {},
   "outputs": [
    {
     "data": {
      "image/png": "[encoded data removed]",
      "text/plain": [
       "<Figure size 432x288 with 1 Axes>"
      ]
     },
     "metadata": {
      "needs_background": "light"
     },
     "output_type": "display_data"
    }
   ],
   "source": [
    "plt.plot(pw, vam, 'o')\n",
    "plt.ylabel('VAM')\n",
    "plt.xlabel('Power [W]')\n",
    "plt.show()"
   ]
  },
  {
   "cell_type": "code",
   "execution_count": 4,
   "metadata": {},
   "outputs": [],
   "source": [
    "beta_1 = ((pw-np.mean(pw))*(vam-np.mean(vam))).sum()/((pw-np.mean(pw))**2).sum()"
   ]
  },
  {
   "cell_type": "code",
   "execution_count": 5,
   "metadata": {},
   "outputs": [],
   "source": [
    "beta_0 = np.mean(vam)-beta_1*np.mean(pw)"
   ]
  },
  {
   "cell_type": "code",
   "execution_count": 6,
   "metadata": {},
   "outputs": [
    {
     "data": {
      "text/plain": [
       "array([1064.82472941, 1108.49589781, 1076.73504806, 1017.18345479,\n",
       "       1017.18345479,  945.72154287,  913.96069313,  925.87101178,\n",
       "        802.79771903,  965.57207396,  921.90090557,  965.57207396,\n",
       "        909.99058691,  862.3493123 ,  957.63186153,  874.25963095,\n",
       "        870.28952473,  945.72154287,  882.19984339,  858.37920608,\n",
       "        838.52867499,  842.49878121,  870.28952473,  806.76782525,\n",
       "        751.1863382 ,  866.31941852,  917.93079935,  937.78133044,\n",
       "        981.45249883,  965.57207396,  612.23262057])"
      ]
     },
     "execution_count": 6,
     "metadata": {},
     "output_type": "execute_result"
    }
   ],
   "source": [
    "beta_0 + beta_1*pw"
   ]
  },
  {
   "cell_type": "code",
   "execution_count": 28,
   "metadata": {},
   "outputs": [
    {
     "data": {
      "text/plain": [
       "<matplotlib.legend.Legend at 0x116e975f8>"
      ]
     },
     "execution_count": 28,
     "metadata": {},
     "output_type": "execute_result"
    },
    {
     "data": {
      "image/png": "[encoded data removed]",
      "text/plain": [
       "<Figure size 432x288 with 1 Axes>"
      ]
     },
     "metadata": {
      "needs_background": "light"
     },
     "output_type": "display_data"
    }
   ],
   "source": [
    "plt.plot(pw, vam, 'o')\n",
    "plt.plot(pw, beta_0 + beta_1*pw, label=\"model with intercept\")\n",
    "#plt.plot(pw, beta_1*pw, label=\"model without intercept\")\n",
    "plt.legend()"
   ]
  },
  {
   "cell_type": "markdown",
   "metadata": {},
   "source": [
    "## Model coefficients"
   ]
  },
  {
   "cell_type": "code",
   "execution_count": 8,
   "metadata": {},
   "outputs": [
    {
     "name": "stdout",
     "output_type": "stream",
     "text": [
      "-161.9380919069797\n",
      "3.970106217851004\n"
     ]
    }
   ],
   "source": [
    "print(beta_0)\n",
    "print(beta_1)"
   ]
  },
  {
   "cell_type": "code",
   "execution_count": null,
   "metadata": {},
   "outputs": [],
   "source": []
  },
  {
   "cell_type": "code",
   "execution_count": 56,
   "metadata": {},
   "outputs": [],
   "source": [
    "target_VAM = 1180"
   ]
  },
  {
   "cell_type": "markdown",
   "metadata": {},
   "source": [
    "# VAM model with beta_0 != 0"
   ]
  },
  {
   "cell_type": "code",
   "execution_count": 57,
   "metadata": {},
   "outputs": [
    {
     "name": "stdout",
     "output_type": "stream",
     "text": [
      "W to produce to achieve 1180 VAM:  338.0\n",
      "W/kg to produce to achieve 1180 VAM:  4.51\n"
     ]
    }
   ],
   "source": [
    "print('W to produce to achieve {} VAM: '.format(target_VAM), np.around((target_VAM-beta_0)/beta_1))\n",
    "print('W/kg to produce to achieve {} VAM: '.format(target_VAM), np.around(((target_VAM-beta_0)/beta_1)/75, 2))"
   ]
  },
  {
   "cell_type": "markdown",
   "metadata": {},
   "source": [
    "# WIKI model"
   ]
  },
  {
   "cell_type": "code",
   "execution_count": 58,
   "metadata": {},
   "outputs": [],
   "source": [
    "slope = 6.17"
   ]
  },
  {
   "cell_type": "code",
   "execution_count": 59,
   "metadata": {},
   "outputs": [
    {
     "name": "stdout",
     "output_type": "stream",
     "text": [
      "W/kg to produce to achieve 1180 VAM with equation from wiki:  4.51\n"
     ]
    }
   ],
   "source": [
    "target_pw = target_VAM/((2+slope/10)*100)\n",
    "print('W/kg to produce to achieve {} VAM with equation from wiki: '.format(target_VAM), np.around(target_pw, 2))"
   ]
  },
  {
   "cell_type": "code",
   "execution_count": 60,
   "metadata": {},
   "outputs": [
    {
     "data": {
      "text/plain": [
       "338.1734810852121"
      ]
     },
     "execution_count": 60,
     "metadata": {},
     "output_type": "execute_result"
    }
   ],
   "source": [
    "target_pw*75"
   ]
  },
  {
   "cell_type": "code",
   "execution_count": null,
   "metadata": {},
   "outputs": [],
   "source": []
  },
  {
   "cell_type": "code",
   "execution_count": null,
   "metadata": {},
   "outputs": [],
   "source": []
  },
  {
   "cell_type": "code",
   "execution_count": null,
   "metadata": {},
   "outputs": [],
   "source": []
  },
  {
   "cell_type": "code",
   "execution_count": 16,
   "metadata": {},
   "outputs": [
    {
     "data": {
      "text/plain": [
       "60"
      ]
     },
     "execution_count": 16,
     "metadata": {},
     "output_type": "execute_result"
    }
   ],
   "source": [
    "640-580"
   ]
  },
  {
   "cell_type": "code",
   "execution_count": 18,
   "metadata": {},
   "outputs": [
    {
     "data": {
      "text/plain": [
       "220"
      ]
     },
     "execution_count": 18,
     "metadata": {},
     "output_type": "execute_result"
    }
   ],
   "source": [
    "11*20"
   ]
  },
  {
   "cell_type": "code",
   "execution_count": 19,
   "metadata": {},
   "outputs": [
    {
     "data": {
      "text/plain": [
       "427"
      ]
     },
     "execution_count": 19,
     "metadata": {},
     "output_type": "execute_result"
    }
   ],
   "source": [
    "647-220"
   ]
  },
  {
   "cell_type": "code",
   "execution_count": null,
   "metadata": {},
   "outputs": [],
   "source": []
  }
 ],
 "metadata": {
  "kernelspec": {
   "display_name": "Python 3",
   "language": "python",
   "name": "python3"
  },
  "language_info": {
   "codemirror_mode": {
    "name": "ipython",
    "version": 3
   },
   "file_extension": ".py",
   "mimetype": "text/x-python",
   "name": "python",
   "nbconvert_exporter": "python",
   "pygments_lexer": "ipython3",
   "version": "3.7.3"
  }
 },
 "nbformat": 4,
 "nbformat_minor": 2
}
